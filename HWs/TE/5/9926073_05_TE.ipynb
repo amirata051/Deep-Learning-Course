{
  "nbformat": 4,
  "nbformat_minor": 0,
  "metadata": {
    "colab": {
      "provenance": []
    },
    "kernelspec": {
      "name": "python3",
      "display_name": "Python 3"
    },
    "language_info": {
      "name": "python"
    }
  },
  "cells": [
    {
      "cell_type": "markdown",
      "source": [
        "# Sigmoid function and its derivative"
      ],
      "metadata": {
        "id": "bZsYjaUfaQBN"
      }
    },
    {
      "cell_type": "code",
      "execution_count": 1,
      "metadata": {
        "id": "Nyw3lGf6vViL"
      },
      "outputs": [],
      "source": [
        "import numpy as np\n",
        "\n",
        "def sigmoid(x):\n",
        "    return 1 / (1 + np.exp(-x))\n",
        "\n",
        "def derOFsig(x):\n",
        "    return sigmoid(x)*(1 - sigmoid(x))"
      ]
    },
    {
      "cell_type": "markdown",
      "source": [
        "# Weights and biases"
      ],
      "metadata": {
        "id": "LY62alP0aSXn"
      }
    },
    {
      "cell_type": "code",
      "source": [
        "w1 = np.array([[1, 2],\n",
        "               [-2, -1],\n",
        "               [0, -3]])\n",
        "\n",
        "b1 = np.array([1, 0, 2])\n",
        "\n",
        "w2 = np.array([[2, 3, -2],\n",
        "               [1, -2, 1]])\n",
        "\n",
        "b2 = np.array([1, -1])\n",
        "\n",
        "w3 = np.array([4, -1])\n",
        "\n",
        "b3 = np.array([2])\n",
        "\n",
        "a0 = np.array([0.1 ,0.3])\n",
        "\n",
        "a3 = np.dot(w3, sigmoid(np.dot(w2, sigmoid(np.dot(w1, a0) + b1)) + b2)) + b3\n",
        "\n",
        "print(a3)"
      ],
      "metadata": {
        "colab": {
          "base_uri": "https://localhost:8080/"
        },
        "id": "zGCR_NVi7mRt",
        "outputId": "7c779041-9a75-43c7-d34d-6cefcc34c49c"
      },
      "execution_count": 2,
      "outputs": [
        {
          "output_type": "stream",
          "name": "stdout",
          "text": [
            "[5.18284955]\n"
          ]
        }
      ]
    },
    {
      "cell_type": "markdown",
      "source": [
        "# Inputs and outputs"
      ],
      "metadata": {
        "id": "r9kWHEaFajO2"
      }
    },
    {
      "cell_type": "code",
      "source": [
        "z1 = np.dot(w1,a0)\n",
        "a1 = sigmoid(z1+b1)\n",
        "\n",
        "z2 = np.dot(w2,a1)\n",
        "a2 = sigmoid(z2+b2)\n",
        "\n",
        "z3 = np.dot(w3,a2)\n",
        "a3 = (z3+b3)\n",
        "print(a3)"
      ],
      "metadata": {
        "colab": {
          "base_uri": "https://localhost:8080/"
        },
        "id": "v9snVUOv7yVY",
        "outputId": "b0ff35e8-b428-4e46-cb55-12357fc927af"
      },
      "execution_count": 3,
      "outputs": [
        {
          "output_type": "stream",
          "name": "stdout",
          "text": [
            "[5.18284955]\n"
          ]
        }
      ]
    },
    {
      "cell_type": "markdown",
      "source": [
        "# Calculation of deltas"
      ],
      "metadata": {
        "id": "fc1Xd7GxarBB"
      }
    },
    {
      "cell_type": "code",
      "source": [
        "y = 0.5\n",
        "delta3 = 2*(a3-y)\n",
        "delta2 = np.dot(np.atleast_2d(w3).transpose(),delta3) * derOFsig(z2)\n",
        "delta1 = np.dot(np.atleast_2d(w2).transpose(),delta2) * derOFsig(z1)\n",
        "\n",
        "print(\"delta3:\")\n",
        "print(delta3,\"\\n\")\n",
        "print(\"delta2:\")\n",
        "print(delta2,\"\\n\")\n",
        "print(\"delta1:\")\n",
        "print(delta1)"
      ],
      "metadata": {
        "colab": {
          "base_uri": "https://localhost:8080/"
        },
        "id": "b6mlRSOo8Il5",
        "outputId": "49e54bb0-0b81-4e84-e4aa-879013c213ff"
      },
      "execution_count": 4,
      "outputs": [
        {
          "output_type": "stream",
          "name": "stdout",
          "text": [
            "delta3:\n",
            "[9.36569911] \n",
            "\n",
            "delta2:\n",
            "[ 6.22140123 -1.97196571] \n",
            "\n",
            "delta1:\n",
            "[ 2.3215193   5.31299568 -2.96223929]\n"
          ]
        }
      ]
    },
    {
      "cell_type": "markdown",
      "source": [
        "# The gradient of the cost function"
      ],
      "metadata": {
        "id": "aOBx-FAba1I3"
      }
    },
    {
      "cell_type": "code",
      "source": [
        "gradC = np.atleast_2d(np.concatenate((delta1*a0[0], delta1*a0[1], delta2*a1[0], delta2*a1[1],\n",
        "                        delta2*a1[2], delta3*a2, delta1, delta2, delta3), axis=0)).transpose()\n",
        "\n",
        "print(gradC)"
      ],
      "metadata": {
        "colab": {
          "base_uri": "https://localhost:8080/"
        },
        "id": "q42BfTIy8kOf",
        "outputId": "2010e37e-0d15-4fae-af44-f941b550999f"
      },
      "execution_count": 5,
      "outputs": [
        {
          "output_type": "stream",
          "name": "stdout",
          "text": [
            "[[ 0.23215193]\n",
            " [ 0.53129957]\n",
            " [-0.29622393]\n",
            " [ 0.69645579]\n",
            " [ 1.5938987 ]\n",
            " [-0.88867179]\n",
            " [ 5.26041084]\n",
            " [-1.6673655 ]\n",
            " [ 2.34883198]\n",
            " [-0.74449725]\n",
            " [ 4.66766914]\n",
            " [-1.4794872 ]\n",
            " [ 8.5300725 ]\n",
            " [ 4.31067877]\n",
            " [ 2.3215193 ]\n",
            " [ 5.31299568]\n",
            " [-2.96223929]\n",
            " [ 6.22140123]\n",
            " [-1.97196571]\n",
            " [ 9.36569911]]\n"
          ]
        }
      ]
    },
    {
      "cell_type": "markdown",
      "source": [
        "# Weights and biases"
      ],
      "metadata": {
        "id": "ZeleEswRa8bw"
      }
    },
    {
      "cell_type": "code",
      "source": [
        "wb_old =  np.atleast_2d(np.concatenate((w1[:,0], w1[:,1], w2[:,0], w2[:,1], w2[:,2], w3, b1, b2, b3), axis=0)).transpose()\n",
        "\n",
        "print(wb_old)"
      ],
      "metadata": {
        "colab": {
          "base_uri": "https://localhost:8080/"
        },
        "id": "h1Yuy7xdAJiO",
        "outputId": "3105fcb4-a51b-4ff4-d802-701b4418e733"
      },
      "execution_count": 6,
      "outputs": [
        {
          "output_type": "stream",
          "name": "stdout",
          "text": [
            "[[ 1]\n",
            " [-2]\n",
            " [ 0]\n",
            " [ 2]\n",
            " [-1]\n",
            " [-3]\n",
            " [ 2]\n",
            " [ 1]\n",
            " [ 3]\n",
            " [-2]\n",
            " [-2]\n",
            " [ 1]\n",
            " [ 4]\n",
            " [-1]\n",
            " [ 1]\n",
            " [ 0]\n",
            " [ 2]\n",
            " [ 1]\n",
            " [-1]\n",
            " [ 2]]\n"
          ]
        }
      ]
    },
    {
      "cell_type": "markdown",
      "source": [
        "# Calculation of new weights and biases using gradient descent algorithm"
      ],
      "metadata": {
        "id": "sUZ0cvkUbECK"
      }
    },
    {
      "cell_type": "code",
      "source": [
        "wb_new = wb_old - gradC\n",
        "\n",
        "print(wb_new)"
      ],
      "metadata": {
        "colab": {
          "base_uri": "https://localhost:8080/"
        },
        "id": "AmqmGZ2jAPko",
        "outputId": "a50becec-f993-448c-9479-d9b0ec480ac6"
      },
      "execution_count": 7,
      "outputs": [
        {
          "output_type": "stream",
          "name": "stdout",
          "text": [
            "[[ 0.76784807]\n",
            " [-2.53129957]\n",
            " [ 0.29622393]\n",
            " [ 1.30354421]\n",
            " [-2.5938987 ]\n",
            " [-2.11132821]\n",
            " [-3.26041084]\n",
            " [ 2.6673655 ]\n",
            " [ 0.65116802]\n",
            " [-1.25550275]\n",
            " [-6.66766914]\n",
            " [ 2.4794872 ]\n",
            " [-4.5300725 ]\n",
            " [-5.31067877]\n",
            " [-1.3215193 ]\n",
            " [-5.31299568]\n",
            " [ 4.96223929]\n",
            " [-5.22140123]\n",
            " [ 0.97196571]\n",
            " [-7.36569911]]\n"
          ]
        }
      ]
    }
  ]
}